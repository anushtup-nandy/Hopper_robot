{
 "cells": [
  {
   "attachments": {},
   "cell_type": "markdown",
   "metadata": {},
   "source": [
    "# Learning how to simulate urdfs:"
   ]
  },
  {
   "cell_type": "code",
   "execution_count": 1,
   "metadata": {},
   "outputs": [
    {
     "name": "stderr",
     "output_type": "stream",
     "text": [
      "pybullet build time: May 20 2022 19:44:17\n"
     ]
    }
   ],
   "source": [
    "import pybullet as p\n",
    "import time\n",
    "import numpy as np\n",
    "import matplotlib.pyplot as plt\n",
    "import pybullet_data"
   ]
  },
  {
   "cell_type": "code",
   "execution_count": 2,
   "metadata": {},
   "outputs": [
    {
     "name": "stdout",
     "output_type": "stream",
     "text": [
      "startThreads creating 1 threads.\n",
      "starting thread 0\n",
      "started thread 0 \n",
      "argc=2\n",
      "argv[0] = --unused\n",
      "argv[1] = --start_demo_name=Physics Server\n",
      "ExampleBrowserThreadFunc started\n",
      "X11 functions dynamically loaded using dlopen/dlsym OK!\n",
      "X11 functions dynamically loaded using dlopen/dlsym OK!\n",
      "Creating context\n",
      "Created GL 3.3 context\n",
      "Direct GLX rendering context obtained\n",
      "Making context current\n",
      "GL_VENDOR=AMD\n",
      "GL_RENDERER=AMD RENOIR (DRM 3.42.0, 5.15.0-60-generic, LLVM 12.0.0)\n",
      "GL_VERSION=4.6 (Core Profile) Mesa 21.2.6\n",
      "GL_SHADING_LANGUAGE_VERSION=4.60\n",
      "pthread_getconcurrency()=0\n",
      "Version = 4.6 (Core Profile) Mesa 21.2.6\n",
      "Vendor = AMD\n",
      "Renderer = AMD RENOIR (DRM 3.42.0, 5.15.0-60-generic, LLVM 12.0.0)\n",
      "b3Printf: Selected demo: Physics Server\n",
      "startThreads creating 1 threads.\n",
      "starting thread 0\n",
      "started thread 0 \n",
      "MotionThreadFunc thread started\n",
      "ven = AMD\n",
      "ven = AMD\n"
     ]
    }
   ],
   "source": [
    "physicsClient = p.connect(p.GUI)#or p.DIRECT for non-graphical version\n",
    "p.setAdditionalSearchPath(pybullet_data.getDataPath()) #this will load the plane urdf \n",
    "p.setGravity(0,0,-10) #along the Z axis\n",
    "planeId = p.loadURDF(\"plane.urdf\")\n",
    "\n",
    "#---loading the robotID----:\n",
    "startPos = [0,0,1] # it will be spawned at z=1\n",
    "startOrientation = p.getQuaternionFromEuler([0,np.pi/2,0]) #angle at which it will be spawned\n",
    "#robot = p.loadURDF(\"/home/anushtup/Documents/Coding/Robot_sims/sim_env/Jumping/jumping.urdf\",startPos, startOrientation)\n",
    "robot = p.loadURDF(\"/home/anushtup/Documents/Coding/Robot_sims/sim_env/Jumping/jumping.urdf\",startPos, startOrientation, useFixedBase = False)"
   ]
  },
  {
   "cell_type": "code",
   "execution_count": 3,
   "metadata": {},
   "outputs": [],
   "source": [
    "p.setGravity(0,0,-10)\n",
    "p.setRealTimeSimulation(1)"
   ]
  },
  {
   "cell_type": "code",
   "execution_count": 4,
   "metadata": {},
   "outputs": [
    {
     "name": "stdout",
     "output_type": "stream",
     "text": [
      "(0, b'hfe_joint', 0, 7, 6, 1, 0.0, 0.0, -1.6, 1.6, 200.0, 10.0, b'upperleg', (0.0, 0.0, 1.0), (0.2, 0.0, 0.0), (-0.7071067966408575, 0.0, 0.0, 0.7071067657322372), -1)\n",
      "(1, b'kfe_joint', 0, 8, 7, 1, 0.0, 0.0, -1.6, 1.6, 200.0, 10.0, b'lowerleg', (0.0, 0.0, 1.0), (0.35, 0.0, 0.0), (0.0, 0.0, 0.0, 1.0), 0)\n",
      "(2, b'lowerleg_contactsensor_link_joint', 4, -1, -1, 0, 0.0, 0.0, 0.0, -1.0, 0.0, 0.0, b'lowerleg_contactsensor_link', (0.0, 0.0, 0.0), (0.35, 0.0, 0.0), (0.0, 0.0, 0.0, 1.0), 1)\n"
     ]
    }
   ],
   "source": [
    "for i in range(p.getNumJoints(robot)):\n",
    "    print(p.getJointInfo(robot,i))"
   ]
  },
  {
   "cell_type": "code",
   "execution_count": 6,
   "metadata": {},
   "outputs": [
    {
     "name": "stdout",
     "output_type": "stream",
     "text": [
      "{'upperleg': 0, 'lowerleg': 1}\n"
     ]
    }
   ],
   "source": [
    "jointNameToID = {}\n",
    "linkNameToID = {}\n",
    "revoluteID = []\n",
    "\n",
    "\n",
    "for j in range(p.getNumJoints(robot)):\n",
    "    info = p.getJointInfo(robot, j)\n",
    "    # print(info)\n",
    "    jointID = info[0]\n",
    "    jointName = info[1].decode('UTF-8')\n",
    "    jointType = info[2]\n",
    "    if (jointType == p.JOINT_REVOLUTE):\n",
    "        jointNameToID[jointName] = info[0]\n",
    "        linkNameToID[info[12].decode('UTF-8')] = info[0]\n",
    "        revoluteID.append(j)\n",
    "print(linkNameToID)"
   ]
  },
  {
   "cell_type": "code",
   "execution_count": 33,
   "metadata": {},
   "outputs": [
    {
     "name": "stdout",
     "output_type": "stream",
     "text": [
      "-1.6 1.6\n",
      "(0.9943264939880689, 0.08876735068432552, 0.011286206367809668, 0.057513497126361855)\n"
     ]
    }
   ],
   "source": [
    "jointID = 1\n",
    "jLow1 = p.getJointInfo(robot, jointID)[8] \n",
    "jUp1 = p.getJointInfo(robot, jointID)[9]\n",
    "jytpe1 = p.getJointInfo(robot, jointID)[2]\n",
    "\n",
    "print(jLow1, jUp1)\n",
    "print(p.getLinkStates(robot, [2])[0][1])"
   ]
  },
  {
   "cell_type": "code",
   "execution_count": 8,
   "metadata": {},
   "outputs": [],
   "source": [
    "for step in range( 500 ):\n",
    "    joint_0_targ = np.random.uniform(jLow1, jUp1)\n",
    "    joint_1_targ = np.random.uniform(jLow1, jUp1)\n",
    "\n",
    "    p.setJointMotorControlArray(robot, [0,1], p.POSITION_CONTROL, targetPositions = [joint_0_targ, joint_1_targ])\n",
    "    p.stepSimulation()\n",
    "    \n",
    "    time.sleep(0.01)\n",
    "    # print(p.getLinkStates(robot, [1]))\n",
    "\n"
   ]
  },
  {
   "cell_type": "code",
   "execution_count": 9,
   "metadata": {},
   "outputs": [],
   "source": [
    "pivot=[0,0,0,1]\n",
    "decomprPhase=0\n",
    "xbody,orQT = p.getBasePositionAndOrientation(robot)\n",
    "orDes=orQT\n",
    "orEU=p.getEulerFromQuaternion(orQT)\n",
    "t=0\n",
    "tstr=0\n"
   ]
  },
  {
   "cell_type": "code",
   "execution_count": 35,
   "metadata": {},
   "outputs": [
    {
     "ename": "NameError",
     "evalue": "name 'cid' is not defined",
     "output_type": "error",
     "traceback": [
      "\u001b[0;31m---------------------------------------------------------------------------\u001b[0m",
      "\u001b[0;31mNameError\u001b[0m                                 Traceback (most recent call last)",
      "\u001b[1;32m/home/anushtup/Documents/Coding/Robot_sims/sim_env/Jumping/Learn_jumping.ipynb Cell 10\u001b[0m in \u001b[0;36m2\n\u001b[1;32m     <a href='vscode-notebook-cell:/home/anushtup/Documents/Coding/Robot_sims/sim_env/Jumping/Learn_jumping.ipynb#X12sZmlsZQ%3D%3D?line=22'>23</a>\u001b[0m \u001b[39mif\u001b[39;00m decomprPhase\u001b[39m==\u001b[39m\u001b[39m1\u001b[39m:\n\u001b[1;32m     <a href='vscode-notebook-cell:/home/anushtup/Documents/Coding/Robot_sims/sim_env/Jumping/Learn_jumping.ipynb#X12sZmlsZQ%3D%3D?line=23'>24</a>\u001b[0m     \u001b[39m#decompressing: PD control on orientation of body during stance\u001b[39;00m\n\u001b[1;32m     <a href='vscode-notebook-cell:/home/anushtup/Documents/Coding/Robot_sims/sim_env/Jumping/Learn_jumping.ipynb#X12sZmlsZQ%3D%3D?line=24'>25</a>\u001b[0m     \u001b[39m#orDesEU=p.getEulerFromQuaternion(orDes)\u001b[39;00m\n\u001b[1;32m     <a href='vscode-notebook-cell:/home/anushtup/Documents/Coding/Robot_sims/sim_env/Jumping/Learn_jumping.ipynb#X12sZmlsZQ%3D%3D?line=25'>26</a>\u001b[0m     \u001b[39m#orDes = p.getQuaternionFromEuler(orDesEU + np.array([-0.07*omgx-0.3*orEU[0],\u001b[39;00m\n\u001b[1;32m     <a href='vscode-notebook-cell:/home/anushtup/Documents/Coding/Robot_sims/sim_env/Jumping/Learn_jumping.ipynb#X12sZmlsZQ%3D%3D?line=26'>27</a>\u001b[0m     \u001b[39m#                                                     -0.07*omgy-0.3*orEU[1],0.0]))\u001b[39;00m\n\u001b[1;32m     <a href='vscode-notebook-cell:/home/anushtup/Documents/Coding/Robot_sims/sim_env/Jumping/Learn_jumping.ipynb#X12sZmlsZQ%3D%3D?line=27'>28</a>\u001b[0m     \u001b[39mif\u001b[39;00m ((t\u001b[39m-\u001b[39mtstr)\u001b[39m<\u001b[39m\u001b[39m8\u001b[39m):  \u001b[39m#trust for a small time interval (increased spring force)\u001b[39;00m\n\u001b[0;32m---> <a href='vscode-notebook-cell:/home/anushtup/Documents/Coding/Robot_sims/sim_env/Jumping/Learn_jumping.ipynb#X12sZmlsZQ%3D%3D?line=28'>29</a>\u001b[0m         p\u001b[39m.\u001b[39mchangeConstraint(cid,pivot,jointChildFrameOrientation\u001b[39m=\u001b[39morDes, maxForce\u001b[39m=\u001b[39m\u001b[39m60\u001b[39m)\n\u001b[1;32m     <a href='vscode-notebook-cell:/home/anushtup/Documents/Coding/Robot_sims/sim_env/Jumping/Learn_jumping.ipynb#X12sZmlsZQ%3D%3D?line=29'>30</a>\u001b[0m     \u001b[39melse\u001b[39;00m:\n\u001b[1;32m     <a href='vscode-notebook-cell:/home/anushtup/Documents/Coding/Robot_sims/sim_env/Jumping/Learn_jumping.ipynb#X12sZmlsZQ%3D%3D?line=30'>31</a>\u001b[0m         p\u001b[39m.\u001b[39mchangeConstraint(cid,pivot,jointChildFrameOrientation\u001b[39m=\u001b[39morDes, maxForce\u001b[39m=\u001b[39m\u001b[39m30\u001b[39m)\n",
      "\u001b[0;31mNameError\u001b[0m: name 'cid' is not defined"
     ]
    }
   ],
   "source": [
    "for i in range(1000):\n",
    "    t+=1\n",
    "    time.sleep(.01)\n",
    "    xbodyprv=xbody\n",
    "    orEUprv=orEU\n",
    "    xbody,orQT = p.getBasePositionAndOrientation(robot)\n",
    "    vxbody=(xbody[0]-xbodyprv[0])/0.01\n",
    "    vybody=(xbody[1]-xbodyprv[1])/0.01\n",
    "    vzbody=(xbody[2]-xbodyprv[2])/0.01\n",
    "    orEU=p.getEulerFromQuaternion(orQT)\n",
    "    omgx=(orEU[0]-orEUprv[0])/0.01\n",
    "    omgy=(orEU[1]-orEUprv[1])/0.01\n",
    "\n",
    "    xfoot,dum = p.getLinkStates(robot, [2])[0][0],p.getLinkStates(robot, [2])[0][1]\n",
    "\n",
    "    if vzbody>0 and decomprPhase==0:\n",
    "        decomprPhase=1\n",
    "        tstr=t\n",
    "    #lift off condition: foot is off the ground\n",
    "    if xfoot[2]>0.105 and decomprPhase==1:\n",
    "        decomprPhase=0\n",
    "\n",
    "    if decomprPhase==1:\n",
    "        #decompressing: PD control on orientation of body during stance\n",
    "        #orDesEU=p.getEulerFromQuaternion(orDes)\n",
    "        #orDes = p.getQuaternionFromEuler(orDesEU + np.array([-0.07*omgx-0.3*orEU[0],\n",
    "        #                                                     -0.07*omgy-0.3*orEU[1],0.0]))\n",
    "        if ((t-tstr)<8):  #trust for a small time interval (increased spring force)\n",
    "            p.changeConstraint(cid,pivot,jointChildFrameOrientation=orDes, maxForce=60)\n",
    "        else:\n",
    "            p.changeConstraint(cid,pivot,jointChildFrameOrientation=orDes, maxForce=30)\n",
    "    else:\n",
    "        #flight and compression: Reposition foot for next landing based on body horizontal velocity and orientation\n",
    "        if (xfoot[2]>0.105):\n",
    "            orDes = p.getQuaternionFromEuler(\n",
    "                    [+0.2*(-(vybody-0.0)*np.cos(orEU[2])+(vxbody-0.0)*np.sin(orEU[2])) + orEU[0],\n",
    "                     +0.2*( (vxbody-0.0)*np.cos(orEU[2])+(vybody-0.0)*np.sin(orEU[2])) + orEU[1], 0.0])\n",
    "        p.changeConstraint(cid,pivot,jointChildFrameOrientation=orDes, maxForce=30)\n",
    "        destination.append(orDes)\n",
    "\n",
    "p.removeConstraint(cid)\n",
    "p.disconnect()"
   ]
  }
 ],
 "metadata": {
  "kernelspec": {
   "display_name": "sim_env",
   "language": "python",
   "name": "python3"
  },
  "language_info": {
   "codemirror_mode": {
    "name": "ipython",
    "version": 3
   },
   "file_extension": ".py",
   "mimetype": "text/x-python",
   "name": "python",
   "nbconvert_exporter": "python",
   "pygments_lexer": "ipython3",
   "version": "3.8.10"
  },
  "orig_nbformat": 4
 },
 "nbformat": 4,
 "nbformat_minor": 2
}
